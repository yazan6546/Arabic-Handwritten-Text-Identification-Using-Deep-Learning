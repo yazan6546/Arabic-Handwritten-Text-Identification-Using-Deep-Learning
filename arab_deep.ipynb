{
  "metadata": {
    "kernelspec": {
      "name": "python3",
      "display_name": "Python 3",
      "language": "python"
    },
    "language_info": {
      "name": "python",
      "version": "3.10.12",
      "mimetype": "text/x-python",
      "codemirror_mode": {
        "name": "ipython",
        "version": 3
      },
      "pygments_lexer": "ipython3",
      "nbconvert_exporter": "python",
      "file_extension": ".py"
    },
    "colab": {
      "provenance": [],
      "gpuType": "T4",
      "name": "arab_deep"
    },
    "accelerator": "GPU",
    "kaggle": {
      "accelerator": "nvidiaTeslaT4",
      "dataSources": [
        {
          "sourceId": 10577711,
          "sourceType": "datasetVersion",
          "datasetId": 6545316
        }
      ],
      "dockerImageVersionId": 30840,
      "isInternetEnabled": true,
      "language": "python",
      "sourceType": "notebook",
      "isGpuEnabled": true
    }
  },
  "nbformat_minor": 0,
  "nbformat": 4,
  "cells": [
    {
      "source": [
        "# IMPORTANT: RUN THIS CELL IN ORDER TO IMPORT YOUR KAGGLE DATA SOURCES,\n",
        "# THEN FEEL FREE TO DELETE THIS CELL.\n",
        "# NOTE: THIS NOTEBOOK ENVIRONMENT DIFFERS FROM KAGGLE'S PYTHON\n",
        "# ENVIRONMENT SO THERE MAY BE MISSING LIBRARIES USED BY YOUR\n",
        "# NOTEBOOK.\n",
        "import kagglehub\n",
        "yazanaboeloun_arabic_path = kagglehub.dataset_download('yazanaboeloun/arabic')\n",
        "\n",
        "print('Data source import complete.')\n"
      ],
      "metadata": {
        "id": "T1trCx1hjOpM"
      },
      "cell_type": "code",
      "outputs": [],
      "execution_count": null
    },
    {
      "cell_type": "code",
      "source": [
        "# IMPORTANT: RUN THIS CELL IN ORDER TO IMPORT YOUR KAGGLE DATA SOURCES,\n",
        "# THEN FEEL FREE TO DELETE THIS CELL.\n",
        "# NOTE: THIS NOTEBOOK ENVIRONMENT DIFFERS FROM KAGGLE'S PYTHON\n",
        "# ENVIRONMENT SO THERE MAY BE MISSING LIBRARIES USED BY YOUR\n",
        "# NOTEBOOK.\n",
        "import kagglehub\n",
        "yazanaboeloun_arabic_path = kagglehub.dataset_download('yazanaboeloun/arabic')\n",
        "\n",
        "print('Data source import complete.')\n"
      ],
      "metadata": {
        "id": "c9gNak_feUKX",
        "trusted": true,
        "execution": {
          "iopub.status.busy": "2025-01-25T12:47:04.77038Z",
          "iopub.execute_input": "2025-01-25T12:47:04.770652Z",
          "iopub.status.idle": "2025-01-25T12:47:05.395051Z",
          "shell.execute_reply.started": "2025-01-25T12:47:04.770632Z",
          "shell.execute_reply": "2025-01-25T12:47:05.394381Z"
        },
        "outputId": "c40bb2e7-03ba-4da9-9448-d648f99bf154"
      },
      "outputs": [
        {
          "name": "stdout",
          "text": "Data source import complete.\n",
          "output_type": "stream"
        }
      ],
      "execution_count": null
    },
    {
      "cell_type": "code",
      "source": [
        "import os\n",
        "\n",
        "# Define the dataset path\n",
        "dataset_path = yazanaboeloun_arabic_path\n",
        "\n",
        "# Check if the dataset path exists\n",
        "if os.path.exists(dataset_path):\n",
        "    print(\"Dataset path exists!\")\n",
        "    print(\"Files in the dataset directory:\")\n",
        "    print(os.listdir(dataset_path))  # List files to confirm the structure\n",
        "else:\n",
        "    print(\"Dataset path does not exist.\")"
      ],
      "metadata": {
        "trusted": true,
        "execution": {
          "iopub.status.busy": "2025-01-25T12:47:06.541098Z",
          "iopub.execute_input": "2025-01-25T12:47:06.541424Z",
          "iopub.status.idle": "2025-01-25T12:47:06.557415Z",
          "shell.execute_reply.started": "2025-01-25T12:47:06.541399Z",
          "shell.execute_reply": "2025-01-25T12:47:06.556641Z"
        },
        "id": "D3ZxkaLHjOpQ",
        "outputId": "d2ccafcb-d381-4161-a784-f7fe920f57ea"
      },
      "outputs": [
        {
          "name": "stdout",
          "text": "Dataset path exists!\nFiles in the dataset directory:\n['.gitignore', 'preprocessed']\n",
          "output_type": "stream"
        }
      ],
      "execution_count": null
    },
    {
      "cell_type": "code",
      "source": [
        "import os\n",
        "import cv2\n",
        "import pandas as pd\n",
        "import numpy as np\n",
        "import torch.nn.functional as F\n",
        "from sklearn.preprocessing import LabelEncoder\n",
        "from sklearn.model_selection import train_test_split\n",
        "import matplotlib.pyplot as plt\n",
        "import pandas as pd\n",
        "import torch\n",
        "from torch.utils.data import Dataset, DataLoader,ConcatDataset\n",
        "from torchvision import transforms\n",
        "from PIL import Image\n",
        "import torch.nn as nn\n",
        "import torch.optim as optim"
      ],
      "metadata": {
        "id": "sj_QqE4TfPX1",
        "trusted": true,
        "execution": {
          "iopub.status.busy": "2025-01-25T12:47:16.007924Z",
          "iopub.execute_input": "2025-01-25T12:47:16.008223Z",
          "iopub.status.idle": "2025-01-25T12:47:25.632586Z",
          "shell.execute_reply.started": "2025-01-25T12:47:16.008193Z",
          "shell.execute_reply": "2025-01-25T12:47:25.631945Z"
        }
      },
      "outputs": [],
      "execution_count": null
    },
    {
      "cell_type": "code",
      "source": [
        "data_path = yazanaboeloun_arabic_path\n",
        "dataset_path = os.path.join(data_path, 'preprocessed')"
      ],
      "metadata": {
        "id": "6YJesf3Q38b4",
        "trusted": true,
        "execution": {
          "iopub.status.busy": "2025-01-25T12:48:25.119536Z",
          "iopub.execute_input": "2025-01-25T12:48:25.119816Z",
          "iopub.status.idle": "2025-01-25T12:48:25.123478Z",
          "shell.execute_reply.started": "2025-01-25T12:48:25.119795Z",
          "shell.execute_reply": "2025-01-25T12:48:25.122761Z"
        }
      },
      "outputs": [],
      "execution_count": null
    },
    {
      "cell_type": "code",
      "source": [
        "%cp -r /content/drive/MyDrive/Arabic-Handwritten-Text-Identification-Using-Deep-Learning-main/Arabic-Handwritten-Text-Identification-Using-Deep-Learning-main/utilities ."
      ],
      "metadata": {
        "id": "CsVxGIlK8KI0"
      },
      "outputs": [],
      "execution_count": null
    },
    {
      "cell_type": "code",
      "source": [
        "# Load Images from File\n",
        "def load_images_from_directory(directory, target_size=(256, 128)):\n",
        "    data = []\n",
        "    for root, _, files in os.walk(directory):\n",
        "\n",
        "        for filename in files:\n",
        "            if filename.endswith(\".jpg\") or filename.endswith(\".png\"):\n",
        "                img = cv2.imread(os.path.join(root, filename), cv2.IMREAD_GRAYSCALE)\n",
        "                if img is not None:\n",
        "\n",
        "                    data.append({'filename': filename, 'image': img})\n",
        "    return data"
      ],
      "metadata": {
        "trusted": true,
        "execution": {
          "iopub.status.busy": "2025-01-25T12:48:32.698357Z",
          "iopub.execute_input": "2025-01-25T12:48:32.698642Z",
          "iopub.status.idle": "2025-01-25T12:48:32.703552Z",
          "shell.execute_reply.started": "2025-01-25T12:48:32.698622Z",
          "shell.execute_reply": "2025-01-25T12:48:32.70273Z"
        },
        "id": "xAJpVxlzeUKb"
      },
      "outputs": [],
      "execution_count": null
    },
    {
      "cell_type": "code",
      "source": [
        "def load_images_to_dataframe(directory):\n",
        "    \"\"\"\n",
        "    Load images from a directory and return a DataFrame containing the images and their filenames.\n",
        "\n",
        "    Parameters:\n",
        "    directory (str): The directory containing the images.\n",
        "\n",
        "    Returns:\n",
        "    pd.DataFrame: A DataFrame with columns 'filename' and 'image'.\n",
        "    \"\"\"\n",
        "\n",
        "    data = load_images_from_directory(directory)\n",
        "    print('data')\n",
        "    df = pd.DataFrame(data)\n",
        "    df.set_index('filename', inplace=True)\n",
        "    df['Target'] = df.index.map(lambda x: x.split('_')[0])\n",
        "\n",
        "    return df\n"
      ],
      "metadata": {
        "trusted": true,
        "execution": {
          "iopub.status.busy": "2025-01-25T12:48:35.000251Z",
          "iopub.execute_input": "2025-01-25T12:48:35.000655Z",
          "iopub.status.idle": "2025-01-25T12:48:35.006236Z",
          "shell.execute_reply.started": "2025-01-25T12:48:35.00062Z",
          "shell.execute_reply": "2025-01-25T12:48:35.005305Z"
        },
        "id": "heo4M0pAeUKc"
      },
      "outputs": [],
      "execution_count": null
    },
    {
      "cell_type": "code",
      "source": [
        "import cv2\n",
        "from matplotlib import pyplot as plt\n",
        "\n",
        "# Check the files and choose one to load\n",
        "image_filename = os.listdir(dataset_path)[0]  # Replace with the actual image filename if needed\n",
        "image_path = os.path.join(dataset_path, image_filename)\n",
        "\n",
        "# Load the image using OpenCV\n",
        "image = cv2.imread(image_path)\n",
        "\n",
        "# Check if the image is loaded successfully\n",
        "if image is not None:\n",
        "    # Convert the image from BGR to RGB for correct display with Matplotlib\n",
        "    image_rgb = cv2.cvtColor(image, cv2.COLOR_BGR2RGB)\n",
        "\n",
        "    # Display the image\n",
        "    plt.imshow(image_rgb)\n",
        "    plt.axis(\"off\")  # Hide the axes\n",
        "    plt.title(f\"Loaded Image: {image_filename}\")\n",
        "    plt.show()\n",
        "else:\n",
        "    print(f\"Failed to load image from {image_path}\")\n"
      ],
      "metadata": {
        "trusted": true,
        "execution": {
          "iopub.status.busy": "2025-01-25T12:48:28.508768Z",
          "iopub.execute_input": "2025-01-25T12:48:28.50904Z",
          "iopub.status.idle": "2025-01-25T12:48:28.871626Z",
          "shell.execute_reply.started": "2025-01-25T12:48:28.50902Z",
          "shell.execute_reply": "2025-01-25T12:48:28.870798Z"
        },
        "id": "9AGkduXbeUKc",
        "outputId": "1eb79c7e-7528-4c09-b2e7-50b73436d5d7"
      },
      "outputs": [
        {
          "output_type": "display_data",
          "data": {
            "text/plain": "<Figure size 640x480 with 1 Axes>",
            "image/png": "[encoded data removed]"
          },
          "metadata": {}
        }
      ],
      "execution_count": null
    },
    {
      "cell_type": "code",
      "source": [
        "df = load_images_to_dataframe(dataset_path)\n",
        "\n",
        "# Encode the labels\n",
        "label_encoder = LabelEncoder()\n",
        "df['Target'] = label_encoder.fit_transform(df['Target'])\n",
        "\n",
        "# Split the data into training and testing sets\n",
        "train_df, test_df = train_test_split(df, test_size=0.2, random_state=42)\n",
        "# Further split the training set into training and validation sets\n",
        "train_df, val_df = train_test_split(train_df, test_size=0.1, random_state=42)\n"
      ],
      "metadata": {
        "colab": {
          "base_uri": "https://localhost:8080/",
          "height": 238
        },
        "id": "JVH4ne2v3eYv",
        "outputId": "da4ca3ad-82c4-4d6a-8942-005589db217c",
        "trusted": true,
        "execution": {
          "iopub.status.busy": "2025-01-25T12:48:48.003655Z",
          "iopub.execute_input": "2025-01-25T12:48:48.003945Z",
          "iopub.status.idle": "2025-01-25T12:49:42.875364Z",
          "shell.execute_reply.started": "2025-01-25T12:48:48.003923Z",
          "shell.execute_reply": "2025-01-25T12:49:42.874525Z"
        }
      },
      "outputs": [
        {
          "name": "stdout",
          "text": "data\n",
          "output_type": "stream"
        }
      ],
      "execution_count": null
    },
    {
      "cell_type": "code",
      "source": [
        "# Custom Dataset class\n",
        "class ImageDataset(Dataset):\n",
        "    def __init__(self, dataframe, transform=None):\n",
        "        self.dataframe = dataframe\n",
        "        self.transform = transform\n",
        "\n",
        "    def __len__(self):\n",
        "        return len(self.dataframe)\n",
        "\n",
        "    def __getitem__(self, idx):\n",
        "        # Access the stored image data in grayscale\n",
        "        image = self.dataframe.iloc[idx, 0]  # 'image' column has the image data (grayscale)\n",
        "        label = self.dataframe.iloc[idx, 1]  # 'Target' column has the label\n",
        "\n",
        "        # Convert grayscale image to RGB if needed\n",
        "        image = np.expand_dims(image, axis=-1)  # Add channel dimension (H, W, 1)\n",
        "        image = np.repeat(image, 3, axis=-1)  # Convert to RGB by duplicating the grayscale channel\n",
        "\n",
        "        # Convert numpy array to PIL image\n",
        "        image = Image.fromarray(image)\n",
        "\n",
        "        # Apply transformations if any\n",
        "        if self.transform:\n",
        "            image = self.transform(image)\n",
        "\n",
        "        return image, label"
      ],
      "metadata": {
        "id": "oKacbW0Q3hKk",
        "trusted": true,
        "execution": {
          "iopub.status.busy": "2025-01-25T12:50:16.917081Z",
          "iopub.execute_input": "2025-01-25T12:50:16.917428Z",
          "iopub.status.idle": "2025-01-25T12:50:16.923424Z",
          "shell.execute_reply.started": "2025-01-25T12:50:16.917401Z",
          "shell.execute_reply": "2025-01-25T12:50:16.922605Z"
        }
      },
      "outputs": [],
      "execution_count": null
    },
    {
      "cell_type": "markdown",
      "source": [
        "**Data Augmentation**"
      ],
      "metadata": {
        "id": "SODaOiF6AJ04"
      }
    },
    {
      "cell_type": "code",
      "source": [
        "transform_group1 = transforms.Compose([\n",
        "    transforms.RandomHorizontalFlip(p=0.5),\n",
        "    transforms.ToTensor(),\n",
        "])\n",
        "\n",
        "transform_group2 = transforms.Compose([\n",
        "    transforms.RandomRotation(degrees=15),\n",
        "    transforms.ToTensor(),\n",
        "])\n",
        "\n",
        "# Group 2: Color Jitter\n",
        "transform_group3 = transforms.Compose([\n",
        "    transforms.ColorJitter(brightness=0.2, contrast=0.2, saturation=0.2, hue=0.1),\n",
        "    transforms.ToTensor(),\n",
        "])\n",
        "\n",
        "# Group 3: Resize\n",
        "transform_group4 = transforms.Compose([\n",
        "    transforms.Resize((128, 128)),\n",
        "    transforms.ToTensor(),\n",
        "])"
      ],
      "metadata": {
        "id": "iduU0cx5Cm9R"
      },
      "outputs": [],
      "execution_count": null
    },
    {
      "cell_type": "code",
      "source": [
        "dataset1 = ImageDataset(dataframe=train_df, transform=transform_group1)\n",
        "dataset2 = ImageDataset(dataframe=train_df, transform=transform_group2)\n",
        "dataset3 = ImageDataset(dataframe=train_df, transform=transform_group3)\n",
        "dataset4 = ImageDataset(dataframe=train_df, transform=transform_group4)"
      ],
      "metadata": {
        "id": "Gy924vc4Cc8f"
      },
      "outputs": [],
      "execution_count": null
    },
    {
      "cell_type": "code",
      "source": [
        "combined_dataset = ConcatDataset([dataset1, dataset2, dataset3])"
      ],
      "metadata": {
        "id": "air6X5q4CuEW"
      },
      "outputs": [],
      "execution_count": null
    },
    {
      "cell_type": "code",
      "source": [
        "dataloader = DataLoader(combined_dataset, batch_size=32, shuffle=True)"
      ],
      "metadata": {
        "id": "T8-xVVqqC8Ff"
      },
      "outputs": [],
      "execution_count": null
    },
    {
      "cell_type": "code",
      "source": [
        "print(df['Target'].unique())"
      ],
      "metadata": {
        "colab": {
          "base_uri": "https://localhost:8080/"
        },
        "id": "0glwbl_m3lT1",
        "outputId": "a0598285-a748-4363-c007-420bfa2f5738"
      },
      "outputs": [
        {
          "output_type": "stream",
          "name": "stdout",
          "text": [
            "[ 1 70 72  2  3 73 31  4  9 16 49  0 11 27 37 14 80 76 39 19 69 41 79 62\n",
            " 25 48 52 36 44 35 26 60 45 81  7 40 24 57  8 55 68 78 63 58 23 64 33  5\n",
            " 50 51 66 15 29 32 12 53 30 74 38 21 56 42 17 28  6 59 65 71 75 47 18 46\n",
            " 10 34 77 13 67 61 43 54 22 20]\n"
          ]
        }
      ],
      "execution_count": null
    },
    {
      "cell_type": "code",
      "source": [
        "# Define the transformation\n",
        "# transform = transforms.Compose([\n",
        "#     transforms.Resize((128, 128)),\n",
        "#     transforms.ToTensor(),\n",
        "# ])\n",
        "\n",
        "# # Create the dataset and dataloader\n",
        "# dataset = ImageDataset(dataframe=train_df, transform=transform)\n",
        "\n",
        "# dataloader = DataLoader(dataset, batch_size=32, shuffle=True)"
      ],
      "metadata": {
        "id": "fexdSvdKKscN"
      },
      "outputs": [],
      "execution_count": null
    },
    {
      "cell_type": "code",
      "source": [
        "# Define the model class\n",
        "class SimpleCNN(nn.Module):\n",
        "    def __init__(self, num_filters, kernel_size, stride, padding, fc_neurons, dropout_rate, pool_size, pool_type=\"max\"):\n",
        "        super(SimpleCNN, self).__init__()\n",
        "        self.conv1 = nn.Conv2d(3, num_filters, kernel_size=kernel_size, stride=stride, padding=padding)\n",
        "        self.conv2 = nn.Conv2d(num_filters, num_filters * 2, kernel_size=kernel_size, stride=stride, padding=padding)\n",
        "\n",
        "        # Pooling layer selection (max or average pooling)\n",
        "        if pool_type == \"max\":\n",
        "            self.pool = nn.MaxPool2d(kernel_size=pool_size, stride=pool_size)\n",
        "        elif pool_type == \"avg\":\n",
        "            self.pool = nn.AvgPool2d(kernel_size=pool_size, stride=pool_size)\n",
        "\n",
        "        self.dropout = nn.Dropout(dropout_rate)\n",
        "\n",
        "        self.fc1 = nn.Linear(num_filters * 2 * 16 * 16, fc_neurons)  # Initialize with a default size\n",
        "        self.fc2 = nn.Linear(fc_neurons, 82)\n",
        "\n",
        "    def forward(self, x):\n",
        "        x = self.pool(F.relu(self.conv1(x)))\n",
        "        x = self.pool(F.relu(self.conv2(x)))\n",
        "\n",
        "        # Dynamically determine the input size for fc1\n",
        "        x = x.view(x.size(0), -1)  # Flatten the output\n",
        "        if x.shape[1] != self.fc1.in_features:\n",
        "            self.fc1 = nn.Linear(x.shape[1], self.fc2.in_features)  # Adjust fc1 if needed\n",
        "            print(\"fc1 input size adjusted to:\", x.shape[1])\n",
        "\n",
        "        x = self.dropout(F.relu(self.fc1(x)))\n",
        "        x = self.fc2(x)\n",
        "        return x\n",
        "\n",
        "    def _calculate_fc1_input_size(self, num_filters, kernel_size, stride, padding, pool_size):\n",
        "        # Create a dummy input tensor\n",
        "        dummy_input = torch.randn(1, 3, 128, 128)\n",
        "\n",
        "        # Pass the dummy input through the convolutional and pooling layers\n",
        "        dummy_output = self.pool(F.relu(nn.Conv2d(3, num_filters, kernel_size=kernel_size, stride=stride, padding=padding)(dummy_input)))\n",
        "        dummy_output = self.pool(F.relu(nn.Conv2d(num_filters, num_filters * 2, kernel_size=kernel_size, stride=stride, padding=padding)(dummy_output)))\n",
        "\n",
        "        # Calculate the flattened size of the output\n",
        "        return dummy_output.view(1, -1).shape[1]\n",
        "\n"
      ],
      "metadata": {
        "id": "5OBu354iKrJt"
      },
      "outputs": [],
      "execution_count": null
    },
    {
      "cell_type": "code",
      "source": [
        "# Baseline configuration\n",
        "base_config = {\n",
        "    \"num_filters\": 16,\n",
        "    \"kernel_size\": 3,\n",
        "    \"stride\": 1,\n",
        "    \"padding\": 1,\n",
        "    \"fc_neurons\": 128,\n",
        "    \"dropout_rate\": 0,\n",
        "    \"pool_size\": 2,\n",
        "    \"pool_type\": \"max\",\n",
        "    \"learning_rate\": 0.001,\n",
        "    \"batch_size\": 32,\n",
        "    \"weight_decay\": 0.0,\n",
        "    \"optimizer_name\": \"Adam\",\n",
        "}\n",
        "\n",
        "# Parameters to tune (one at a time)\n",
        "parameters_to_tune = {\n",
        "    \"num_filters\": [16, 32],\n",
        "    \"kernel_size\": [3, 5],\n",
        "    \"stride\": [1,2],\n",
        "    \"padding\": [0,1],\n",
        "    \"fc_neurons\": [128,256],\n",
        "    \"dropout_rate\": [0,0.2],\n",
        "    \"pool_size\": [2,3],\n",
        "    \"pool_type\": [\"avg\"],\n",
        "    \"learning_rate\": [0.001,0.0005],\n",
        "    \"batch_size\": [32,64],\n",
        "    \"weight_decay\": [0.0,0.01],\n",
        "    \"optimizer_name\": [\"Adam\",\"SGD\"],\n",
        "}"
      ],
      "metadata": {
        "id": "TmyetfI_K1IP"
      },
      "outputs": [],
      "execution_count": null
    },
    {
      "cell_type": "code",
      "source": [
        "for param, values in parameters_to_tune.items():\n",
        "    for value in values:\n",
        "        # Update the current parameter in the base config\n",
        "        current_config = base_config.copy()\n",
        "        current_config[param] = value\n",
        "\n",
        "        # Create the dataloader with the updated batch size\n",
        "        dataloader = DataLoader(combined_dataset, batch_size=current_config[\"batch_size\"], shuffle=True)\n",
        "\n",
        "        # Initialize the model\n",
        "        model = SimpleCNN(\n",
        "            num_filters=current_config[\"num_filters\"],\n",
        "            kernel_size=current_config[\"kernel_size\"],\n",
        "            stride=current_config[\"stride\"],\n",
        "            padding=current_config[\"padding\"],\n",
        "            fc_neurons=current_config[\"fc_neurons\"],\n",
        "            dropout_rate=current_config[\"dropout_rate\"],\n",
        "            pool_size=current_config[\"pool_size\"],\n",
        "            pool_type=current_config[\"pool_type\"],\n",
        "        )\n",
        "\n",
        "        # Define optimizer\n",
        "        if current_config[\"optimizer_name\"] == \"Adam\":\n",
        "            optimizer = optim.Adam(model.parameters(), lr=current_config[\"learning_rate\"], weight_decay=current_config[\"weight_decay\"])\n",
        "        elif current_config[\"optimizer_name\"] == \"SGD\":\n",
        "            optimizer = optim.SGD(model.parameters(), lr=current_config[\"learning_rate\"], weight_decay=current_config[\"weight_decay\"])\n",
        "\n",
        "        # Define loss function\n",
        "        criterion = nn.CrossEntropyLoss()\n",
        "\n",
        "        # Training loop\n",
        "        num_epochs = 5\n",
        "        loss_per_epoch = []\n",
        "\n",
        "        for epoch in range(num_epochs):\n",
        "            running_loss = 0.0\n",
        "            for images, labels in dataloader:\n",
        "                optimizer.zero_grad()\n",
        "                labels = labels.long()\n",
        "\n",
        "                # Forward pass (fc1 adjustment happens here if needed)\n",
        "                outputs = model(images)\n",
        "\n",
        "                loss = criterion(outputs, labels)\n",
        "                loss.backward()\n",
        "                optimizer.step()\n",
        "                running_loss += loss.item()\n",
        "\n",
        "            avg_loss = running_loss / len(dataloader)\n",
        "            loss_per_epoch.append(avg_loss)\n",
        "            print(f'Tuning {param}={value}, Epoch={epoch+1}, Loss={avg_loss}')\n",
        "\n",
        "\n",
        "        # Save the model\n",
        "        model_name = f'model_{param}{value}.pth'\n",
        "        torch.save(model, os.path.join('/content/drive/MyDrive/cnn_models_augmented_data', model_name))\n",
        "\n",
        "        # Save the loss vs. epoch data\n",
        "        log_name = f'loss_{param}{value}.txt'\n",
        "        with open(os.path.join('/content/drive/MyDrive/logs_augmented', log_name), 'w') as f:\n",
        "            for epoch, loss in enumerate(loss_per_epoch, 1):\n",
        "                f.write(f'Epoch {epoch}, Loss: {loss}\\n')"
      ],
      "metadata": {
        "colab": {
          "base_uri": "https://localhost:8080/",
          "height": 495
        },
        "id": "9BtuGn7wK4Fa",
        "outputId": "1e4779c5-6f66-4fda-b2d1-a0a4caf39dca"
      },
      "outputs": [
        {
          "output_type": "stream",
          "name": "stdout",
          "text": [
            "fc1 input size adjusted to: 65536\n",
            "Tuning num_filters=16, Epoch=1, Loss=4.330350749275901\n",
            "Tuning num_filters=16, Epoch=2, Loss=3.8886219306425613\n",
            "Tuning num_filters=16, Epoch=3, Loss=3.716588181582364\n",
            "Tuning num_filters=16, Epoch=4, Loss=3.629050475467335\n",
            "Tuning num_filters=16, Epoch=5, Loss=3.5748000621795653\n",
            "fc1 input size adjusted to: 131072\n",
            "Tuning num_filters=32, Epoch=1, Loss=4.304433562972329\n"
          ]
        },
        {
          "output_type": "error",
          "ename": "KeyboardInterrupt",
          "evalue": "",
          "traceback": [
            "\u001b[0;31m---------------------------------------------------------------------------\u001b[0m",
            "\u001b[0;31mKeyboardInterrupt\u001b[0m                         Traceback (most recent call last)",
            "\u001b[0;32m<ipython-input-17-623ad077f9e7>\u001b[0m in \u001b[0;36m<cell line: 0>\u001b[0;34m()\u001b[0m\n\u001b[1;32m     40\u001b[0m \u001b[0;34m\u001b[0m\u001b[0m\n\u001b[1;32m     41\u001b[0m                 \u001b[0;31m# Forward pass (fc1 adjustment happens here if needed)\u001b[0m\u001b[0;34m\u001b[0m\u001b[0;34m\u001b[0m\u001b[0m\n\u001b[0;32m---> 42\u001b[0;31m                 \u001b[0moutputs\u001b[0m \u001b[0;34m=\u001b[0m \u001b[0mmodel\u001b[0m\u001b[0;34m(\u001b[0m\u001b[0mimages\u001b[0m\u001b[0;34m)\u001b[0m\u001b[0;34m\u001b[0m\u001b[0;34m\u001b[0m\u001b[0m\n\u001b[0m\u001b[1;32m     43\u001b[0m \u001b[0;34m\u001b[0m\u001b[0m\n\u001b[1;32m     44\u001b[0m                 \u001b[0mloss\u001b[0m \u001b[0;34m=\u001b[0m \u001b[0mcriterion\u001b[0m\u001b[0;34m(\u001b[0m\u001b[0moutputs\u001b[0m\u001b[0;34m,\u001b[0m \u001b[0mlabels\u001b[0m\u001b[0;34m)\u001b[0m\u001b[0;34m\u001b[0m\u001b[0;34m\u001b[0m\u001b[0m\n",
            "\u001b[0;32m/usr/local/lib/python3.11/dist-packages/torch/nn/modules/module.py\u001b[0m in \u001b[0;36m_wrapped_call_impl\u001b[0;34m(self, *args, **kwargs)\u001b[0m\n\u001b[1;32m   1734\u001b[0m             \u001b[0;32mreturn\u001b[0m \u001b[0mself\u001b[0m\u001b[0;34m.\u001b[0m\u001b[0m_compiled_call_impl\u001b[0m\u001b[0;34m(\u001b[0m\u001b[0;34m*\u001b[0m\u001b[0margs\u001b[0m\u001b[0;34m,\u001b[0m \u001b[0;34m**\u001b[0m\u001b[0mkwargs\u001b[0m\u001b[0;34m)\u001b[0m  \u001b[0;31m# type: ignore[misc]\u001b[0m\u001b[0;34m\u001b[0m\u001b[0;34m\u001b[0m\u001b[0m\n\u001b[1;32m   1735\u001b[0m         \u001b[0;32melse\u001b[0m\u001b[0;34m:\u001b[0m\u001b[0;34m\u001b[0m\u001b[0;34m\u001b[0m\u001b[0m\n\u001b[0;32m-> 1736\u001b[0;31m             \u001b[0;32mreturn\u001b[0m \u001b[0mself\u001b[0m\u001b[0;34m.\u001b[0m\u001b[0m_call_impl\u001b[0m\u001b[0;34m(\u001b[0m\u001b[0;34m*\u001b[0m\u001b[0margs\u001b[0m\u001b[0;34m,\u001b[0m \u001b[0;34m**\u001b[0m\u001b[0mkwargs\u001b[0m\u001b[0;34m)\u001b[0m\u001b[0;34m\u001b[0m\u001b[0;34m\u001b[0m\u001b[0m\n\u001b[0m\u001b[1;32m   1737\u001b[0m \u001b[0;34m\u001b[0m\u001b[0m\n\u001b[1;32m   1738\u001b[0m     \u001b[0;31m# torchrec tests the code consistency with the following code\u001b[0m\u001b[0;34m\u001b[0m\u001b[0;34m\u001b[0m\u001b[0m\n",
            "\u001b[0;32m/usr/local/lib/python3.11/dist-packages/torch/nn/modules/module.py\u001b[0m in \u001b[0;36m_call_impl\u001b[0;34m(self, *args, **kwargs)\u001b[0m\n\u001b[1;32m   1745\u001b[0m                 \u001b[0;32mor\u001b[0m \u001b[0m_global_backward_pre_hooks\u001b[0m \u001b[0;32mor\u001b[0m \u001b[0m_global_backward_hooks\u001b[0m\u001b[0;34m\u001b[0m\u001b[0;34m\u001b[0m\u001b[0m\n\u001b[1;32m   1746\u001b[0m                 or _global_forward_hooks or _global_forward_pre_hooks):\n\u001b[0;32m-> 1747\u001b[0;31m             \u001b[0;32mreturn\u001b[0m \u001b[0mforward_call\u001b[0m\u001b[0;34m(\u001b[0m\u001b[0;34m*\u001b[0m\u001b[0margs\u001b[0m\u001b[0;34m,\u001b[0m \u001b[0;34m**\u001b[0m\u001b[0mkwargs\u001b[0m\u001b[0;34m)\u001b[0m\u001b[0;34m\u001b[0m\u001b[0;34m\u001b[0m\u001b[0m\n\u001b[0m\u001b[1;32m   1748\u001b[0m \u001b[0;34m\u001b[0m\u001b[0m\n\u001b[1;32m   1749\u001b[0m         \u001b[0mresult\u001b[0m \u001b[0;34m=\u001b[0m \u001b[0;32mNone\u001b[0m\u001b[0;34m\u001b[0m\u001b[0;34m\u001b[0m\u001b[0m\n",
            "\u001b[0;32m<ipython-input-16-6fc8f0d1551e>\u001b[0m in \u001b[0;36mforward\u001b[0;34m(self, x)\u001b[0m\n\u001b[1;32m     19\u001b[0m     \u001b[0;32mdef\u001b[0m \u001b[0mforward\u001b[0m\u001b[0;34m(\u001b[0m\u001b[0mself\u001b[0m\u001b[0;34m,\u001b[0m \u001b[0mx\u001b[0m\u001b[0;34m)\u001b[0m\u001b[0;34m:\u001b[0m\u001b[0;34m\u001b[0m\u001b[0;34m\u001b[0m\u001b[0m\n\u001b[1;32m     20\u001b[0m         \u001b[0mx\u001b[0m \u001b[0;34m=\u001b[0m \u001b[0mself\u001b[0m\u001b[0;34m.\u001b[0m\u001b[0mpool\u001b[0m\u001b[0;34m(\u001b[0m\u001b[0mF\u001b[0m\u001b[0;34m.\u001b[0m\u001b[0mrelu\u001b[0m\u001b[0;34m(\u001b[0m\u001b[0mself\u001b[0m\u001b[0;34m.\u001b[0m\u001b[0mconv1\u001b[0m\u001b[0;34m(\u001b[0m\u001b[0mx\u001b[0m\u001b[0;34m)\u001b[0m\u001b[0;34m)\u001b[0m\u001b[0;34m)\u001b[0m\u001b[0;34m\u001b[0m\u001b[0;34m\u001b[0m\u001b[0m\n\u001b[0;32m---> 21\u001b[0;31m         \u001b[0mx\u001b[0m \u001b[0;34m=\u001b[0m \u001b[0mself\u001b[0m\u001b[0;34m.\u001b[0m\u001b[0mpool\u001b[0m\u001b[0;34m(\u001b[0m\u001b[0mF\u001b[0m\u001b[0;34m.\u001b[0m\u001b[0mrelu\u001b[0m\u001b[0;34m(\u001b[0m\u001b[0mself\u001b[0m\u001b[0;34m.\u001b[0m\u001b[0mconv2\u001b[0m\u001b[0;34m(\u001b[0m\u001b[0mx\u001b[0m\u001b[0;34m)\u001b[0m\u001b[0;34m)\u001b[0m\u001b[0;34m)\u001b[0m\u001b[0;34m\u001b[0m\u001b[0;34m\u001b[0m\u001b[0m\n\u001b[0m\u001b[1;32m     22\u001b[0m \u001b[0;34m\u001b[0m\u001b[0m\n\u001b[1;32m     23\u001b[0m         \u001b[0;31m# Dynamically determine the input size for fc1\u001b[0m\u001b[0;34m\u001b[0m\u001b[0;34m\u001b[0m\u001b[0m\n",
            "\u001b[0;32m/usr/local/lib/python3.11/dist-packages/torch/nn/modules/module.py\u001b[0m in \u001b[0;36m_wrapped_call_impl\u001b[0;34m(self, *args, **kwargs)\u001b[0m\n\u001b[1;32m   1734\u001b[0m             \u001b[0;32mreturn\u001b[0m \u001b[0mself\u001b[0m\u001b[0;34m.\u001b[0m\u001b[0m_compiled_call_impl\u001b[0m\u001b[0;34m(\u001b[0m\u001b[0;34m*\u001b[0m\u001b[0margs\u001b[0m\u001b[0;34m,\u001b[0m \u001b[0;34m**\u001b[0m\u001b[0mkwargs\u001b[0m\u001b[0;34m)\u001b[0m  \u001b[0;31m# type: ignore[misc]\u001b[0m\u001b[0;34m\u001b[0m\u001b[0;34m\u001b[0m\u001b[0m\n\u001b[1;32m   1735\u001b[0m         \u001b[0;32melse\u001b[0m\u001b[0;34m:\u001b[0m\u001b[0;34m\u001b[0m\u001b[0;34m\u001b[0m\u001b[0m\n\u001b[0;32m-> 1736\u001b[0;31m             \u001b[0;32mreturn\u001b[0m \u001b[0mself\u001b[0m\u001b[0;34m.\u001b[0m\u001b[0m_call_impl\u001b[0m\u001b[0;34m(\u001b[0m\u001b[0;34m*\u001b[0m\u001b[0margs\u001b[0m\u001b[0;34m,\u001b[0m \u001b[0;34m**\u001b[0m\u001b[0mkwargs\u001b[0m\u001b[0;34m)\u001b[0m\u001b[0;34m\u001b[0m\u001b[0;34m\u001b[0m\u001b[0m\n\u001b[0m\u001b[1;32m   1737\u001b[0m \u001b[0;34m\u001b[0m\u001b[0m\n\u001b[1;32m   1738\u001b[0m     \u001b[0;31m# torchrec tests the code consistency with the following code\u001b[0m\u001b[0;34m\u001b[0m\u001b[0;34m\u001b[0m\u001b[0m\n",
            "\u001b[0;32m/usr/local/lib/python3.11/dist-packages/torch/nn/modules/module.py\u001b[0m in \u001b[0;36m_call_impl\u001b[0;34m(self, *args, **kwargs)\u001b[0m\n\u001b[1;32m   1745\u001b[0m                 \u001b[0;32mor\u001b[0m \u001b[0m_global_backward_pre_hooks\u001b[0m \u001b[0;32mor\u001b[0m \u001b[0m_global_backward_hooks\u001b[0m\u001b[0;34m\u001b[0m\u001b[0;34m\u001b[0m\u001b[0m\n\u001b[1;32m   1746\u001b[0m                 or _global_forward_hooks or _global_forward_pre_hooks):\n\u001b[0;32m-> 1747\u001b[0;31m             \u001b[0;32mreturn\u001b[0m \u001b[0mforward_call\u001b[0m\u001b[0;34m(\u001b[0m\u001b[0;34m*\u001b[0m\u001b[0margs\u001b[0m\u001b[0;34m,\u001b[0m \u001b[0;34m**\u001b[0m\u001b[0mkwargs\u001b[0m\u001b[0;34m)\u001b[0m\u001b[0;34m\u001b[0m\u001b[0;34m\u001b[0m\u001b[0m\n\u001b[0m\u001b[1;32m   1748\u001b[0m \u001b[0;34m\u001b[0m\u001b[0m\n\u001b[1;32m   1749\u001b[0m         \u001b[0mresult\u001b[0m \u001b[0;34m=\u001b[0m \u001b[0;32mNone\u001b[0m\u001b[0;34m\u001b[0m\u001b[0;34m\u001b[0m\u001b[0m\n",
            "\u001b[0;32m/usr/local/lib/python3.11/dist-packages/torch/nn/modules/conv.py\u001b[0m in \u001b[0;36mforward\u001b[0;34m(self, input)\u001b[0m\n\u001b[1;32m    552\u001b[0m \u001b[0;34m\u001b[0m\u001b[0m\n\u001b[1;32m    553\u001b[0m     \u001b[0;32mdef\u001b[0m \u001b[0mforward\u001b[0m\u001b[0;34m(\u001b[0m\u001b[0mself\u001b[0m\u001b[0;34m,\u001b[0m \u001b[0minput\u001b[0m\u001b[0;34m:\u001b[0m \u001b[0mTensor\u001b[0m\u001b[0;34m)\u001b[0m \u001b[0;34m->\u001b[0m \u001b[0mTensor\u001b[0m\u001b[0;34m:\u001b[0m\u001b[0;34m\u001b[0m\u001b[0;34m\u001b[0m\u001b[0m\n\u001b[0;32m--> 554\u001b[0;31m         \u001b[0;32mreturn\u001b[0m \u001b[0mself\u001b[0m\u001b[0;34m.\u001b[0m\u001b[0m_conv_forward\u001b[0m\u001b[0;34m(\u001b[0m\u001b[0minput\u001b[0m\u001b[0;34m,\u001b[0m \u001b[0mself\u001b[0m\u001b[0;34m.\u001b[0m\u001b[0mweight\u001b[0m\u001b[0;34m,\u001b[0m \u001b[0mself\u001b[0m\u001b[0;34m.\u001b[0m\u001b[0mbias\u001b[0m\u001b[0;34m)\u001b[0m\u001b[0;34m\u001b[0m\u001b[0;34m\u001b[0m\u001b[0m\n\u001b[0m\u001b[1;32m    555\u001b[0m \u001b[0;34m\u001b[0m\u001b[0m\n\u001b[1;32m    556\u001b[0m \u001b[0;34m\u001b[0m\u001b[0m\n",
            "\u001b[0;32m/usr/local/lib/python3.11/dist-packages/torch/nn/modules/conv.py\u001b[0m in \u001b[0;36m_conv_forward\u001b[0;34m(self, input, weight, bias)\u001b[0m\n\u001b[1;32m    547\u001b[0m                 \u001b[0mself\u001b[0m\u001b[0;34m.\u001b[0m\u001b[0mgroups\u001b[0m\u001b[0;34m,\u001b[0m\u001b[0;34m\u001b[0m\u001b[0;34m\u001b[0m\u001b[0m\n\u001b[1;32m    548\u001b[0m             )\n\u001b[0;32m--> 549\u001b[0;31m         return F.conv2d(\n\u001b[0m\u001b[1;32m    550\u001b[0m             \u001b[0minput\u001b[0m\u001b[0;34m,\u001b[0m \u001b[0mweight\u001b[0m\u001b[0;34m,\u001b[0m \u001b[0mbias\u001b[0m\u001b[0;34m,\u001b[0m \u001b[0mself\u001b[0m\u001b[0;34m.\u001b[0m\u001b[0mstride\u001b[0m\u001b[0;34m,\u001b[0m \u001b[0mself\u001b[0m\u001b[0;34m.\u001b[0m\u001b[0mpadding\u001b[0m\u001b[0;34m,\u001b[0m \u001b[0mself\u001b[0m\u001b[0;34m.\u001b[0m\u001b[0mdilation\u001b[0m\u001b[0;34m,\u001b[0m \u001b[0mself\u001b[0m\u001b[0;34m.\u001b[0m\u001b[0mgroups\u001b[0m\u001b[0;34m\u001b[0m\u001b[0;34m\u001b[0m\u001b[0m\n\u001b[1;32m    551\u001b[0m         )\n",
            "\u001b[0;31mKeyboardInterrupt\u001b[0m: "
          ]
        }
      ],
      "execution_count": null
    },
    {
      "cell_type": "code",
      "source": [
        "#Save the model's state_dict\n",
        "#torch.save(model.state_dict(), '/content/drive/MyDrive/cnn_proj_models/cnn_test')\n",
        "\n",
        "#To load it later:\n",
        "model = SimpleCNN(\n",
        "    num_filters=base_config[\"num_filters\"],\n",
        "    kernel_size=base_config[\"kernel_size\"],\n",
        "    stride=base_config[\"stride\"],\n",
        "    padding=base_config[\"padding\"],\n",
        "    fc_neurons=256,\n",
        "    dropout_rate=0.3,\n",
        "    pool_size=base_config[\"pool_size\"],\n",
        "    pool_type=base_config[\"pool_type\"]\n",
        ")\n",
        "model.load_state_dict(torch.load('/content/drive/MyDrive/cnn_proj_models/model_fc_neurons256.pth'))\n"
      ],
      "metadata": {
        "id": "SHFvrRYEDLea",
        "colab": {
          "base_uri": "https://localhost:8080/"
        },
        "outputId": "4ebbedc5-ff7f-47da-dde4-22b9b0d20c2d"
      },
      "outputs": [
        {
          "output_type": "stream",
          "name": "stderr",
          "text": [
            "<ipython-input-10-8483f8712ed5>:15: FutureWarning: You are using `torch.load` with `weights_only=False` (the current default value), which uses the default pickle module implicitly. It is possible to construct malicious pickle data which will execute arbitrary code during unpickling (See https://github.com/pytorch/pytorch/blob/main/SECURITY.md#untrusted-models for more details). In a future release, the default value for `weights_only` will be flipped to `True`. This limits the functions that could be executed during unpickling. Arbitrary objects will no longer be allowed to be loaded via this mode unless they are explicitly allowlisted by the user via `torch.serialization.add_safe_globals`. We recommend you start setting `weights_only=True` for any use case where you don't have full control of the loaded file. Please open an issue on GitHub for any issues related to this experimental feature.\n",
            "  model.load_state_dict(torch.load('/content/drive/MyDrive/cnn_proj_models/model_fc_neurons256.pth'))\n"
          ]
        },
        {
          "output_type": "execute_result",
          "data": {
            "text/plain": [
              "<All keys matched successfully>"
            ]
          },
          "metadata": {},
          "execution_count": 10
        }
      ],
      "execution_count": null
    },
    {
      "cell_type": "code",
      "source": [
        "# Assuming you already have your dataset and dataloaders ready\n",
        "# Example: train_loader, val_loader\n",
        "\n",
        "# Define your loss function and optimizer\n",
        "criterion = nn.CrossEntropyLoss()  # or the appropriate loss for your task\n",
        "optimizer = optim.Adam(model.parameters(), lr=1e-4)  # Adjust learning rate if needed\n",
        "\n",
        "# Number of additional epochs to train\n",
        "num_epochs = 15  # Update this to your desired number\n",
        "\n",
        "# Training loop\n",
        "for epoch in range(num_epochs):\n",
        "    model.train()  # Set the model to training mode\n",
        "    running_loss = 0.0\n",
        "\n",
        "    for inputs, labels in dataloader:\n",
        "        optimizer.zero_grad()  # Clear gradients from the previous step\n",
        "        outputs = model(inputs)  # Forward pass\n",
        "        loss = criterion(outputs, labels)  # Compute loss\n",
        "        loss.backward()  # Backpropagation\n",
        "        optimizer.step()  # Update weights\n",
        "\n",
        "        running_loss += loss.item()\n",
        "\n",
        "    print(f\"Epoch {epoch+1}/{num_epochs}, Loss: {running_loss/len(dataloader)}\")"
      ],
      "metadata": {
        "colab": {
          "base_uri": "https://localhost:8080/"
        },
        "id": "Rb7mRJUM8oqy",
        "outputId": "8153405c-092b-4c83-9c42-67517fa4487b"
      },
      "outputs": [
        {
          "output_type": "stream",
          "name": "stdout",
          "text": [
            "Epoch 1/15, Loss: 0.5153155087938776\n",
            "Epoch 2/15, Loss: 0.393408422631657\n",
            "Epoch 3/15, Loss: 0.3312929634247785\n",
            "Epoch 4/15, Loss: 0.2804775101173183\n",
            "Epoch 5/15, Loss: 0.2543026895829193\n",
            "Epoch 6/15, Loss: 0.2391717100981623\n",
            "Epoch 7/15, Loss: 0.2140477980517418\n",
            "Epoch 8/15, Loss: 0.20052805420456696\n",
            "Epoch 9/15, Loss: 0.1771318913720872\n",
            "Epoch 10/15, Loss: 0.1591620927312128\n",
            "Epoch 11/15, Loss: 0.15080908696045695\n",
            "Epoch 12/15, Loss: 0.13345368404913208\n",
            "Epoch 13/15, Loss: 0.12577146495206523\n",
            "Epoch 14/15, Loss: 0.11702878720572461\n",
            "Epoch 15/15, Loss: 0.11167127481641491\n"
          ]
        }
      ],
      "execution_count": null
    },
    {
      "cell_type": "code",
      "source": [
        "torch.save(model.state_dict(), '/content/drive/MyDrive/cnn_proj_models/fc_neurons_256_epochs_15')"
      ],
      "metadata": {
        "id": "bPSi7yBFEvBV"
      },
      "outputs": [],
      "execution_count": null
    },
    {
      "cell_type": "code",
      "source": [
        "df['Target'].value_counts()"
      ],
      "metadata": {
        "colab": {
          "base_uri": "https://localhost:8080/",
          "height": 490
        },
        "id": "VC3_2rkE3q5o",
        "outputId": "b4c625f6-6f37-497b-afa8-7a19f34116e5"
      },
      "outputs": [
        {
          "output_type": "execute_result",
          "data": {
            "text/plain": [
              "Target\n",
              "1     100\n",
              "68    100\n",
              "21    100\n",
              "38    100\n",
              "74    100\n",
              "     ... \n",
              "25    100\n",
              "62    100\n",
              "20    100\n",
              "47     94\n",
              "58     50\n",
              "Name: count, Length: 82, dtype: int64"
            ],
            "text/html": [
              "<div>\n",
              "<style scoped>\n",
              "    .dataframe tbody tr th:only-of-type {\n",
              "        vertical-align: middle;\n",
              "    }\n",
              "\n",
              "    .dataframe tbody tr th {\n",
              "        vertical-align: top;\n",
              "    }\n",
              "\n",
              "    .dataframe thead th {\n",
              "        text-align: right;\n",
              "    }\n",
              "</style>\n",
              "<table border=\"1\" class=\"dataframe\">\n",
              "  <thead>\n",
              "    <tr style=\"text-align: right;\">\n",
              "      <th></th>\n",
              "      <th>count</th>\n",
              "    </tr>\n",
              "    <tr>\n",
              "      <th>Target</th>\n",
              "      <th></th>\n",
              "    </tr>\n",
              "  </thead>\n",
              "  <tbody>\n",
              "    <tr>\n",
              "      <th>1</th>\n",
              "      <td>100</td>\n",
              "    </tr>\n",
              "    <tr>\n",
              "      <th>68</th>\n",
              "      <td>100</td>\n",
              "    </tr>\n",
              "    <tr>\n",
              "      <th>21</th>\n",
              "      <td>100</td>\n",
              "    </tr>\n",
              "    <tr>\n",
              "      <th>38</th>\n",
              "      <td>100</td>\n",
              "    </tr>\n",
              "    <tr>\n",
              "      <th>74</th>\n",
              "      <td>100</td>\n",
              "    </tr>\n",
              "    <tr>\n",
              "      <th>...</th>\n",
              "      <td>...</td>\n",
              "    </tr>\n",
              "    <tr>\n",
              "      <th>25</th>\n",
              "      <td>100</td>\n",
              "    </tr>\n",
              "    <tr>\n",
              "      <th>62</th>\n",
              "      <td>100</td>\n",
              "    </tr>\n",
              "    <tr>\n",
              "      <th>20</th>\n",
              "      <td>100</td>\n",
              "    </tr>\n",
              "    <tr>\n",
              "      <th>47</th>\n",
              "      <td>94</td>\n",
              "    </tr>\n",
              "    <tr>\n",
              "      <th>58</th>\n",
              "      <td>50</td>\n",
              "    </tr>\n",
              "  </tbody>\n",
              "</table>\n",
              "<p>82 rows × 1 columns</p>\n",
              "</div><br><label><b>dtype:</b> int64</label>"
            ]
          },
          "metadata": {},
          "execution_count": 14
        }
      ],
      "execution_count": null
    },
    {
      "cell_type": "code",
      "source": [
        "val_dataset = ImageDataset(dataframe=val_df, transform=transform)\n",
        "test_dataloader = DataLoader(val_dataset, batch_size=32, shuffle=False)\n",
        "\n",
        "\n",
        "model.eval()\n",
        "\n",
        "# No need to track gradients during inference\n",
        "correct_predictions = 0\n",
        "total_predictions = 0\n",
        "\n",
        "# Iterate over the test dataset\n",
        "with torch.no_grad():  # Disable gradient calculations for evaluation\n",
        "    for images, labels in test_dataloader:\n",
        "        labels = labels.long()  # Ensure the labels are of type Long (int64)\n",
        "\n",
        "        # Forward pass\n",
        "        outputs = model(images)\n",
        "\n",
        "        # Get the predicted class with the highest probability\n",
        "        _, predicted = torch.max(outputs, 1)\n",
        "\n",
        "        # Count correct predictions\n",
        "        correct_predictions += (predicted == labels).sum().item()\n",
        "        total_predictions += labels.size(0)\n",
        "\n",
        "# Calculate the accuracy\n",
        "accuracy = 100 * correct_predictions / total_predictions\n",
        "print(f'Accuracy on the val set: {accuracy:.2f}%')"
      ],
      "metadata": {
        "colab": {
          "base_uri": "https://localhost:8080/"
        },
        "id": "-7IJpv-G3v92",
        "outputId": "73d8ad63-0fa1-43fe-a536-7e75d27de20d"
      },
      "outputs": [
        {
          "output_type": "stream",
          "name": "stdout",
          "text": [
            "Accuracy on the val set: 30.98%\n"
          ]
        }
      ],
      "execution_count": null
    },
    {
      "cell_type": "code",
      "source": [
        "test_dataset = ImageDataset(dataframe=test_df, transform=transform)\n",
        "test_dataloader = DataLoader(test_dataset, batch_size=32, shuffle=False)\n",
        "\n",
        "\n",
        "model.eval()\n",
        "\n",
        "# No need to track gradients during inference\n",
        "correct_predictions = 0\n",
        "total_predictions = 0\n",
        "\n",
        "# Iterate over the test dataset\n",
        "with torch.no_grad():  # Disable gradient calculations for evaluation\n",
        "    for images, labels in test_dataloader:\n",
        "        labels = labels.long()  # Ensure the labels are of type Long (int64)\n",
        "\n",
        "        # Forward pass\n",
        "        outputs = model(images)\n",
        "\n",
        "        # Get the predicted class with the highest probability\n",
        "        _, predicted = torch.max(outputs, 1)\n",
        "\n",
        "        # Count correct predictions\n",
        "        correct_predictions += (predicted == labels).sum().item()\n",
        "        total_predictions += labels.size(0)\n",
        "\n",
        "# Calculate the accuracy\n",
        "accuracy = 100 * correct_predictions / total_predictions\n",
        "print(f'Accuracy on the val set: {accuracy:.2f}%')"
      ],
      "metadata": {
        "id": "H7M37NFMEfZ8"
      },
      "outputs": [],
      "execution_count": null
    },
    {
      "cell_type": "markdown",
      "source": [
        "# Task 3"
      ],
      "metadata": {
        "id": "41WJAPOPeUKk"
      }
    },
    {
      "cell_type": "code",
      "source": [
        "# Define the transformation for ResNet and AlexNet\n",
        "transform_resnet_alexnet = transforms.Compose([\n",
        "    transforms.Resize((224, 224)),\n",
        "    transforms.ToTensor(),\n",
        "    transforms.Normalize(mean=[0.485, 0.456, 0.406], std=[0.229, 0.224, 0.225])\n",
        "])"
      ],
      "metadata": {
        "trusted": true,
        "execution": {
          "iopub.status.busy": "2025-01-25T12:50:51.400928Z",
          "iopub.execute_input": "2025-01-25T12:50:51.401285Z",
          "iopub.status.idle": "2025-01-25T12:50:51.405524Z",
          "shell.execute_reply.started": "2025-01-25T12:50:51.401255Z",
          "shell.execute_reply": "2025-01-25T12:50:51.40485Z"
        },
        "id": "nVNuA1HueUKl"
      },
      "outputs": [],
      "execution_count": null
    },
    {
      "cell_type": "code",
      "source": [
        "transform_group1 = transforms.Compose([\n",
        "    transforms.RandomHorizontalFlip(p=0.5),\n",
        "    transforms.Resize((224, 224)),\n",
        "    transforms.ToTensor(),\n",
        "    transforms.Normalize(mean=[0.485, 0.456, 0.406], std=[0.229, 0.224, 0.225])\n",
        "])\n",
        "\n",
        "transform_group2 = transforms.Compose([\n",
        "    transforms.RandomRotation(degrees=15),\n",
        "    transforms.Resize((224, 224)),\n",
        "    transforms.ToTensor(),\n",
        "    transforms.Normalize(mean=[0.485, 0.456, 0.406], std=[0.229, 0.224, 0.225])\n",
        "])\n",
        "\n",
        "# Group 2: Color Jitter\n",
        "transform_group3 = transforms.Compose([\n",
        "    transforms.ColorJitter(brightness=0.2, contrast=0.2, saturation=0.2, hue=0.1),\n",
        "    transforms.Resize((224, 224)),\n",
        "    transforms.ToTensor(),\n",
        "    transforms.Normalize(mean=[0.485, 0.456, 0.406], std=[0.229, 0.224, 0.225])\n",
        "])\n"
      ],
      "metadata": {
        "trusted": true,
        "execution": {
          "iopub.status.busy": "2025-01-25T12:50:52.585269Z",
          "iopub.execute_input": "2025-01-25T12:50:52.58557Z",
          "iopub.status.idle": "2025-01-25T12:50:52.590932Z",
          "shell.execute_reply.started": "2025-01-25T12:50:52.585547Z",
          "shell.execute_reply": "2025-01-25T12:50:52.59026Z"
        },
        "id": "jknj3beVeUKl"
      },
      "outputs": [],
      "execution_count": null
    },
    {
      "cell_type": "code",
      "source": [
        "dataset1 = ImageDataset(dataframe=train_df, transform=transform_group1)\n",
        "dataset2 = ImageDataset(dataframe=train_df, transform=transform_group2)\n",
        "dataset3 = ImageDataset(dataframe=train_df, transform=transform_group3)\n",
        "dataset4 = ImageDataset(dataframe=train_df, transform=transform_resnet_alexnet)\n",
        "\n",
        "val_dataset = ImageDataset(dataframe=val_df, transform=transform_resnet_alexnet)\n",
        "test_dataset = ImageDataset(dataframe=test_df, transform=transform_resnet_alexnet)\n",
        "\n",
        "combined_dataset = ConcatDataset([dataset1, dataset2, dataset3, dataset4])\n",
        "\n",
        "combined_loader = DataLoader(combined_dataset, batch_size=32, shuffle=True)\n",
        "val_dataloader = DataLoader(val_dataset, batch_size=32, shuffle=False)\n",
        "test_loader = DataLoader(test_dataset, batch_size=32, shuffle=False)"
      ],
      "metadata": {
        "trusted": true,
        "execution": {
          "iopub.status.busy": "2025-01-25T12:50:55.183818Z",
          "iopub.execute_input": "2025-01-25T12:50:55.184262Z",
          "iopub.status.idle": "2025-01-25T12:50:55.1912Z",
          "shell.execute_reply.started": "2025-01-25T12:50:55.184221Z",
          "shell.execute_reply": "2025-01-25T12:50:55.190301Z"
        },
        "id": "gdSmQojeeUKl"
      },
      "outputs": [],
      "execution_count": null
    },
    {
      "cell_type": "code",
      "source": [
        "from torchvision import models"
      ],
      "metadata": {
        "trusted": true,
        "execution": {
          "iopub.status.busy": "2025-01-25T12:50:57.339168Z",
          "iopub.execute_input": "2025-01-25T12:50:57.339482Z",
          "iopub.status.idle": "2025-01-25T12:50:57.342555Z",
          "shell.execute_reply.started": "2025-01-25T12:50:57.339458Z",
          "shell.execute_reply": "2025-01-25T12:50:57.341753Z"
        },
        "id": "QtvpuHODeUKl"
      },
      "outputs": [],
      "execution_count": null
    },
    {
      "cell_type": "code",
      "source": [
        "# Load a non-pretrained ResNet model\n",
        "model_resnet = models.resnet18(weights=None)\n",
        "num_ftrs = model_resnet.fc.in_features\n",
        "model_resnet.fc = nn.Linear(num_ftrs, 82)  # Assuming 82 classes\n",
        "\n",
        "# Move the model to GPU if available\n",
        "device = torch.device(\"cuda:0\" if torch.cuda.is_available() else \"cpu\")\n",
        "model_resnet = model_resnet.to(device)\n",
        "\n",
        "# Define the loss function and optimizer\n",
        "criterion_resnet = nn.CrossEntropyLoss()\n",
        "optimizer_resnet = optim.Adam(model_resnet.parameters(), lr=0.00001)"
      ],
      "metadata": {
        "trusted": true,
        "execution": {
          "iopub.status.busy": "2025-01-25T12:51:01.850331Z",
          "iopub.execute_input": "2025-01-25T12:51:01.850611Z",
          "iopub.status.idle": "2025-01-25T12:51:02.451774Z",
          "shell.execute_reply.started": "2025-01-25T12:51:01.85059Z",
          "shell.execute_reply": "2025-01-25T12:51:02.451099Z"
        },
        "id": "z9TMz_0eeUKl"
      },
      "outputs": [],
      "execution_count": null
    },
    {
      "cell_type": "code",
      "source": [
        "import json\n",
        "\n",
        "# Training loop with validation for ResNet\n",
        "num_epochs = 50\n",
        "log_data = {'epoch': [], 'training_loss': [], 'validation_loss': [], 'validation_accuracy': []}\n",
        "\n",
        "for epoch in range(num_epochs):\n",
        "    model_resnet.train()\n",
        "    running_loss = 0.0\n",
        "    for images, labels in combined_loader:\n",
        "        images, labels = images.to(device), labels.to(device)\n",
        "        optimizer_resnet.zero_grad()\n",
        "        outputs = model_resnet(images)\n",
        "        loss = criterion_resnet(outputs, labels)\n",
        "        loss.backward()\n",
        "        optimizer_resnet.step()\n",
        "        running_loss += loss.item()\n",
        "\n",
        "    training_loss = running_loss / len(combined_loader)\n",
        "    print(f'Epoch {epoch+1}, Training Loss: {training_loss}')\n",
        "\n",
        "    # Validation\n",
        "    model_resnet.eval()\n",
        "    val_loss = 0.0\n",
        "    correct = 0\n",
        "    total = 0\n",
        "    with torch.no_grad():\n",
        "        for images, labels in val_dataloader:\n",
        "            images, labels = images.to(device), labels.to(device)\n",
        "            outputs = model_resnet(images)\n",
        "            loss = criterion_resnet(outputs, labels)\n",
        "            val_loss += loss.item()\n",
        "            _, predicted = torch.max(outputs.data, 1)\n",
        "            total += labels.size(0)\n",
        "            correct += (predicted == labels).sum().item()\n",
        "\n",
        "    validation_loss = val_loss / len(val_dataloader)\n",
        "    validation_accuracy = 100 * correct / total\n",
        "    print(f'Epoch {epoch+1}, Validation Loss: {validation_loss}, Validation Accuracy: {validation_accuracy}%')\n",
        "\n",
        "    # Save log data\n",
        "    log_data['epoch'].append(epoch + 1)\n",
        "    log_data['training_loss'].append(training_loss)\n",
        "    log_data['validation_loss'].append(validation_loss)\n",
        "    log_data['validation_accuracy'].append(validation_accuracy)\n",
        "\n",
        "# Save log data to a file\n",
        "with open('training_log.json', 'w') as log_file:\n",
        "    json.dump(log_data, log_file)\n",
        "\n",
        "print('Finished Training')\n",
        "\n",
        "# Save the model\n",
        "torch.save(model_resnet.state_dict(), 'resnet_model_lr_0.001.pth')\n",
        "\n",
        "# # Evaluate the model on the test set\n",
        "# model_resnet.eval()\n",
        "# correct = 0\n",
        "# total = 0\n",
        "# with torch.no_grad():\n",
        "#     for images, labels in test_loader_resnet_alexnet:\n",
        "#         images, labels = images.to(device), labels.to(device)\n",
        "#         outputs = model_resnet(images)\n",
        "#         _, predicted = torch.max(outputs.data, 1)\n",
        "#         total += labels.size(0)\n",
        "#         correct += (predicted == labels).sum().item()\n",
        "\n",
        "# print(f'Accuracy on the test set: {100 * correct / total}%')"
      ],
      "metadata": {
        "trusted": true,
        "execution": {
          "iopub.status.busy": "2025-01-25T11:37:58.263434Z",
          "iopub.execute_input": "2025-01-25T11:37:58.263716Z"
        },
        "id": "BOvFBRZbeUKl",
        "outputId": "1dedb6cb-6be1-4e0c-d87b-edb6f6215ba7"
      },
      "outputs": [
        {
          "name": "stdout",
          "text": "Epoch 1, Training Loss: 4.29192317312414\nEpoch 1, Validation Loss: 4.132739328202748, Validation Accuracy: 5.828220858895706%\nEpoch 2, Training Loss: 3.8401382255554197\nEpoch 2, Validation Loss: 3.726433072771345, Validation Accuracy: 11.042944785276074%\nEpoch 3, Training Loss: 3.4789125420830467\nEpoch 3, Validation Loss: 3.443730967385428, Validation Accuracy: 17.63803680981595%\nEpoch 4, Training Loss: 3.2151575977152045\nEpoch 4, Validation Loss: 3.2620488007863364, Validation Accuracy: 17.024539877300615%\nEpoch 5, Training Loss: 3.011609050577337\nEpoch 5, Validation Loss: 3.01163048971267, Validation Accuracy: 22.392638036809817%\nEpoch 6, Training Loss: 2.8272727649862115\nEpoch 6, Validation Loss: 2.8851920195988248, Validation Accuracy: 26.993865030674847%\nEpoch 7, Training Loss: 2.6860038705305618\nEpoch 7, Validation Loss: 2.7302442505246116, Validation Accuracy: 29.141104294478527%\nEpoch 8, Training Loss: 2.534316433993253\nEpoch 8, Validation Loss: 2.599452030091059, Validation Accuracy: 33.58895705521472%\nEpoch 9, Training Loss: 2.409257238561457\nEpoch 9, Validation Loss: 2.4840091977800642, Validation Accuracy: 33.895705521472394%\nEpoch 10, Training Loss: 2.2878652739524843\nEpoch 10, Validation Loss: 2.5079981031871976, Validation Accuracy: 32.36196319018405%\nEpoch 11, Training Loss: 2.161403056058017\nEpoch 11, Validation Loss: 2.3526501882643926, Validation Accuracy: 38.65030674846626%\nEpoch 12, Training Loss: 2.0391056472604925\nEpoch 12, Validation Loss: 2.3169357095445906, Validation Accuracy: 37.576687116564415%\nEpoch 13, Training Loss: 1.9362691773067822\nEpoch 13, Validation Loss: 2.1756497621536255, Validation Accuracy: 41.41104294478528%\nEpoch 14, Training Loss: 1.8344722884351556\nEpoch 14, Validation Loss: 2.127691075915382, Validation Accuracy: 42.02453987730061%\nEpoch 15, Training Loss: 1.729226859699596\nEpoch 15, Validation Loss: 2.0967013835906982, Validation Accuracy: 42.484662576687114%\nEpoch 16, Training Loss: 1.646663727977059\nEpoch 16, Validation Loss: 1.9845676933016096, Validation Accuracy: 45.70552147239264%\nEpoch 17, Training Loss: 1.5441300975192678\nEpoch 17, Validation Loss: 1.9962396508171445, Validation Accuracy: 46.012269938650306%\nEpoch 18, Training Loss: 1.463307610208338\nEpoch 18, Validation Loss: 1.9561160916373843, Validation Accuracy: 48.00613496932515%\nEpoch 19, Training Loss: 1.3908432479338213\nEpoch 19, Validation Loss: 1.8438323395592826, Validation Accuracy: 50.306748466257666%\nEpoch 20, Training Loss: 1.2895047761093485\nEpoch 20, Validation Loss: 1.800906675202506, Validation Accuracy: 50.61349693251534%\nEpoch 21, Training Loss: 1.2232081628929485\nEpoch 21, Validation Loss: 1.808845423516773, Validation Accuracy: 50.0%\nEpoch 22, Training Loss: 1.143150226094506\nEpoch 22, Validation Loss: 1.7289188986732846, Validation Accuracy: 51.68711656441718%\nEpoch 23, Training Loss: 1.084664592959664\nEpoch 23, Validation Loss: 1.737045617330642, Validation Accuracy: 52.607361963190186%\nEpoch 24, Training Loss: 1.0135972210493955\nEpoch 24, Validation Loss: 1.805275145031157, Validation Accuracy: 48.00613496932515%\nEpoch 25, Training Loss: 0.9490476621281017\nEpoch 25, Validation Loss: 1.6199593657539004, Validation Accuracy: 56.28834355828221%\nEpoch 26, Training Loss: 0.9036345227198167\nEpoch 26, Validation Loss: 1.6669971261705672, Validation Accuracy: 50.306748466257666%\nEpoch 27, Training Loss: 0.8441491264646703\nEpoch 27, Validation Loss: 1.585958963348752, Validation Accuracy: 53.22085889570552%\nEpoch 28, Training Loss: 0.8010774790156971\nEpoch 28, Validation Loss: 1.5241275514875139, Validation Accuracy: 54.4478527607362%\nEpoch 29, Training Loss: 0.7516927907141773\nEpoch 29, Validation Loss: 1.5610306206203641, Validation Accuracy: 57.515337423312886%\nEpoch 30, Training Loss: 0.7067045401984995\nEpoch 30, Validation Loss: 1.6655690556480771, Validation Accuracy: 52.147239263803684%\nEpoch 31, Training Loss: 0.6772893804311753\nEpoch 31, Validation Loss: 1.5369715917678106, Validation Accuracy: 56.74846625766871%\nEpoch 32, Training Loss: 0.6289244915138591\nEpoch 32, Validation Loss: 1.4805857681092762, Validation Accuracy: 58.895705521472394%\nEpoch 33, Training Loss: 0.6014004695415497\nEpoch 33, Validation Loss: 1.4218571413130987, Validation Accuracy: 56.74846625766871%\nEpoch 34, Training Loss: 0.5665476464683359\nEpoch 34, Validation Loss: 1.4342861459368752, Validation Accuracy: 59.20245398773006%\nEpoch 35, Training Loss: 0.5391302026943727\nEpoch 35, Validation Loss: 1.3975551696050734, Validation Accuracy: 59.355828220858896%\nEpoch 36, Training Loss: 0.5029191369902004\nEpoch 36, Validation Loss: 1.436492505527678, Validation Accuracy: 58.12883435582822%\nEpoch 37, Training Loss: 0.4777760656313463\nEpoch 37, Validation Loss: 1.3676427744683766, Validation Accuracy: 60.2760736196319%\nEpoch 38, Training Loss: 0.45579190877350895\nEpoch 38, Validation Loss: 1.4100542692911058, Validation Accuracy: 61.34969325153374%\nEpoch 39, Training Loss: 0.4288326754082333\nEpoch 39, Validation Loss: 1.4223148538952781, Validation Accuracy: 59.355828220858896%\nEpoch 40, Training Loss: 0.4032499183849855\nEpoch 40, Validation Loss: 1.380127830164773, Validation Accuracy: 61.19631901840491%\n",
          "output_type": "stream"
        }
      ],
      "execution_count": null
    },
    {
      "cell_type": "code",
      "source": [
        "def train_and_evaluate(model, criterion, optimizer, num_epochs, train_loader, val_loader, test_loader, device, model_name, lr):\n",
        "    log_data = {'epoch': [], 'training_loss': [], 'validation_loss': [], 'validation_accuracy': []}\n",
        "\n",
        "    for epoch in range(num_epochs):\n",
        "        model.train()\n",
        "        running_loss = 0.0\n",
        "        for images, labels in train_loader:\n",
        "            images, labels = images.to(device), labels.to(device)\n",
        "            optimizer.zero_grad()\n",
        "            outputs = model(images)\n",
        "            loss = criterion(outputs, labels)\n",
        "            loss.backward()\n",
        "            optimizer.step()\n",
        "            running_loss += loss.item()\n",
        "\n",
        "        training_loss = running_loss / len(train_loader)\n",
        "        print(f'Epoch {epoch+1}, Training Loss: {training_loss}')\n",
        "\n",
        "        # Validation\n",
        "        model.eval()\n",
        "        val_loss = 0.0\n",
        "        correct = 0\n",
        "        total = 0\n",
        "        with torch.no_grad():\n",
        "            for images, labels in val_loader:\n",
        "                images, labels = images.to(device), labels.to(device)\n",
        "                outputs = model(images)\n",
        "                loss = criterion(outputs, labels)\n",
        "                val_loss += loss.item()\n",
        "                _, predicted = torch.max(outputs.data, 1)\n",
        "                total += labels.size(0)\n",
        "                correct += (predicted == labels).sum().item()\n",
        "\n",
        "        validation_loss = val_loss / len(val_loader)\n",
        "        validation_accuracy = 100 * correct / total\n",
        "        print(f'Epoch {epoch+1}, Validation Loss: {validation_loss}, Validation Accuracy: {validation_accuracy}%')\n",
        "\n",
        "        # Save log data\n",
        "        log_data['epoch'].append(epoch + 1)\n",
        "        log_data['training_loss'].append(training_loss)\n",
        "        log_data['validation_loss'].append(validation_loss)\n",
        "        log_data['validation_accuracy'].append(validation_accuracy)\n",
        "\n",
        "    # Save log data to a file\n",
        "    log_filename = f'{model_name}_training_log_lr_{lr}_epochs_{num_epochs}.json'\n",
        "    with open(log_filename, 'w') as log_file:\n",
        "        json.dump(log_data, log_file)\n",
        "\n",
        "    print('Finished Training')\n",
        "\n",
        "    # Save the model\n",
        "    model_filename = f'{model_name}_model_lr_{lr}_epochs_{num_epochs}.pth'\n",
        "    torch.save(model.state_dict(), model_filename)\n",
        "\n",
        "    # Evaluate the model on the test set\n",
        "    model.eval()\n",
        "    correct = 0\n",
        "    total = 0\n",
        "    with torch.no_grad():\n",
        "        for images, labels in test_loader:\n",
        "            images, labels = images.to(device), labels.to(device)\n",
        "            outputs = model(images)\n",
        "            _, predicted = torch.max(outputs.data, 1)\n",
        "            total += labels.size(0)\n",
        "            correct += (predicted == labels).sum().item()\n",
        "\n",
        "    test_accuracy = 100 * correct / total\n",
        "    print(f'Accuracy on the test set: {test_accuracy}%')\n",
        "    return test_accuracy"
      ],
      "metadata": {
        "trusted": true,
        "id": "lilPTC8aeUKm",
        "execution": {
          "iopub.status.busy": "2025-01-25T12:51:16.209062Z",
          "iopub.execute_input": "2025-01-25T12:51:16.209398Z",
          "iopub.status.idle": "2025-01-25T12:51:16.21848Z",
          "shell.execute_reply.started": "2025-01-25T12:51:16.209372Z",
          "shell.execute_reply": "2025-01-25T12:51:16.21755Z"
        }
      },
      "outputs": [],
      "execution_count": null
    },
    {
      "cell_type": "code",
      "source": [
        "# Hyperparameters\n",
        "learning_rates = [0.001, 0.0001]\n",
        "num_epochs_list = [10, 20]\n",
        "\n",
        "# Device configuration\n",
        "device = torch.device(\"cuda:0\" if torch.cuda.is_available() else \"cpu\")\n",
        "\n",
        "# Loop over learning rates and number of epochs\n",
        "for lr in learning_rates:\n",
        "    for num_epochs in num_epochs_list:\n",
        "        # ResNet\n",
        "        model_resnet = models.resnet18(pretrained=False)\n",
        "        num_ftrs = model_resnet.fc.in_features\n",
        "        model_resnet.fc = nn.Linear(num_ftrs, 82)  # Assuming 82 classes\n",
        "        model_resnet = model_resnet.to(device)\n",
        "        criterion_resnet = nn.CrossEntropyLoss()\n",
        "        optimizer_resnet = optim.Adam(model_resnet.parameters(), lr=lr)\n",
        "        print(f'Training ResNet with learning rate {lr} and {num_epochs} epochs')\n",
        "        train_and_evaluate(model_resnet, criterion_resnet, optimizer_resnet, num_epochs, combined_loader, val_dataloader, test_loader, device, 'resnet', lr)\n",
        "\n",
        "        # AlexNet\n",
        "        model_alexnet = models.alexnet(pretrained=False)\n",
        "        num_ftrs = model_alexnet.classifier[6].in_features\n",
        "        model_alexnet.classifier[6] = nn.Linear(num_ftrs, 82)  # Assuming 82 classes\n",
        "        model_alexnet = model_alexnet.to(device)\n",
        "        criterion_alexnet = nn.CrossEntropyLoss()\n",
        "        optimizer_alexnet = optim.Adam(model_alexnet.parameters(), lr=lr)\n",
        "        print(f'Training AlexNet with learning rate {lr} and {num_epochs} epochs')\n",
        "        train_and_evaluate(model_alexnet, criterion_alexnet, optimizer_alexnet, num_epochs, combined_loader, val_dataloader, test_loader, device, 'alexnet', lr)"
      ],
      "metadata": {
        "trusted": true,
        "id": "wcmlS3NCeUKm",
        "execution": {
          "iopub.status.busy": "2025-01-25T12:52:20.425352Z",
          "iopub.execute_input": "2025-01-25T12:52:20.425666Z"
        },
        "outputId": "ce28827c-d843-4831-f732-26410c1e83dc"
      },
      "outputs": [
        {
          "name": "stdout",
          "text": "Training ResNet with learning rate 0.001 and 10 epochs\nEpoch 1, Training Loss: 3.046627516961195\nEpoch 1, Validation Loss: 2.5811139458701726, Validation Accuracy: 31.441717791411044%\nEpoch 2, Training Loss: 1.874683983898423\nEpoch 2, Validation Loss: 2.0310470944359187, Validation Accuracy: 42.02453987730061%\nEpoch 3, Training Loss: 1.1325722987297286\nEpoch 3, Validation Loss: 1.6328735493478321, Validation Accuracy: 53.68098159509202%\nEpoch 4, Training Loss: 0.6787237408907645\n",
          "output_type": "stream"
        }
      ],
      "execution_count": null
    }
  ]
}