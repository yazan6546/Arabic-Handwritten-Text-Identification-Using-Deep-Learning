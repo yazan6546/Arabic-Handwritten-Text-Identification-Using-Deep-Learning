{
  "nbformat": 4,
  "nbformat_minor": 0,
  "metadata": {
    "colab": {
      "provenance": [],
      "authorship_tag": "ABX9TyPYpJQ3vmTZUsn3auznlQ48"
    },
    "kernelspec": {
      "name": "python3",
      "display_name": "Python 3"
    },
    "language_info": {
      "name": "python"
    }
  },
  "cells": [
    {
      "cell_type": "code",
      "execution_count": null,
      "metadata": {
        "id": "tUK96Oh5tsUu"
      },
      "outputs": [],
      "source": []
    }
  ]
}